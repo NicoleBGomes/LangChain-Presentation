{
  "nbformat": 4,
  "nbformat_minor": 0,
  "metadata": {
    "colab": {
      "provenance": []
    },
    "kernelspec": {
      "name": "python3",
      "display_name": "Python 3"
    },
    "language_info": {
      "name": "python"
    },
    "widgets": {
      "application/vnd.jupyter.widget-state+json": {
        "ed5ed8bae8634fcc8bc606a2a4f06080": {
          "model_module": "@jupyter-widgets/controls",
          "model_name": "HBoxModel",
          "model_module_version": "1.5.0",
          "state": {
            "_dom_classes": [],
            "_model_module": "@jupyter-widgets/controls",
            "_model_module_version": "1.5.0",
            "_model_name": "HBoxModel",
            "_view_count": null,
            "_view_module": "@jupyter-widgets/controls",
            "_view_module_version": "1.5.0",
            "_view_name": "HBoxView",
            "box_style": "",
            "children": [
              "IPY_MODEL_86c7b7909c674f3e95c08ae3e6ab39aa",
              "IPY_MODEL_279df768f4144bb8ad786956f523aebf",
              "IPY_MODEL_6f0e786fefc04948985692dd6bf8a8f4"
            ],
            "layout": "IPY_MODEL_d0ea8fdb468144998abfae22acafd8e1"
          }
        },
        "86c7b7909c674f3e95c08ae3e6ab39aa": {
          "model_module": "@jupyter-widgets/controls",
          "model_name": "HTMLModel",
          "model_module_version": "1.5.0",
          "state": {
            "_dom_classes": [],
            "_model_module": "@jupyter-widgets/controls",
            "_model_module_version": "1.5.0",
            "_model_name": "HTMLModel",
            "_view_count": null,
            "_view_module": "@jupyter-widgets/controls",
            "_view_module_version": "1.5.0",
            "_view_name": "HTMLView",
            "description": "",
            "description_tooltip": null,
            "layout": "IPY_MODEL_dd94570ec094445f98cb5eb9f5a59dbf",
            "placeholder": "​",
            "style": "IPY_MODEL_654aaf112d254fa2bc72ee9c7022c6b6",
            "value": ""
          }
        },
        "279df768f4144bb8ad786956f523aebf": {
          "model_module": "@jupyter-widgets/controls",
          "model_name": "FloatProgressModel",
          "model_module_version": "1.5.0",
          "state": {
            "_dom_classes": [],
            "_model_module": "@jupyter-widgets/controls",
            "_model_module_version": "1.5.0",
            "_model_name": "FloatProgressModel",
            "_view_count": null,
            "_view_module": "@jupyter-widgets/controls",
            "_view_module_version": "1.5.0",
            "_view_name": "ProgressView",
            "bar_style": "success",
            "description": "",
            "description_tooltip": null,
            "layout": "IPY_MODEL_7928d920ef214e4b95895159cf98b828",
            "max": 1,
            "min": 0,
            "orientation": "horizontal",
            "style": "IPY_MODEL_d131fac3955541899b86f1ea6980548d",
            "value": 1
          }
        },
        "6f0e786fefc04948985692dd6bf8a8f4": {
          "model_module": "@jupyter-widgets/controls",
          "model_name": "HTMLModel",
          "model_module_version": "1.5.0",
          "state": {
            "_dom_classes": [],
            "_model_module": "@jupyter-widgets/controls",
            "_model_module_version": "1.5.0",
            "_model_name": "HTMLModel",
            "_view_count": null,
            "_view_module": "@jupyter-widgets/controls",
            "_view_module_version": "1.5.0",
            "_view_name": "HTMLView",
            "description": "",
            "description_tooltip": null,
            "layout": "IPY_MODEL_357066f3e9e949f4bc980b01070eb86c",
            "placeholder": "​",
            "style": "IPY_MODEL_bf5afd38a2b943d49e64c14e93494e0c",
            "value": " 4/? [00:01&lt;00:00,  1.48s/it]"
          }
        },
        "d0ea8fdb468144998abfae22acafd8e1": {
          "model_module": "@jupyter-widgets/base",
          "model_name": "LayoutModel",
          "model_module_version": "1.2.0",
          "state": {
            "_model_module": "@jupyter-widgets/base",
            "_model_module_version": "1.2.0",
            "_model_name": "LayoutModel",
            "_view_count": null,
            "_view_module": "@jupyter-widgets/base",
            "_view_module_version": "1.2.0",
            "_view_name": "LayoutView",
            "align_content": null,
            "align_items": null,
            "align_self": null,
            "border": null,
            "bottom": null,
            "display": null,
            "flex": null,
            "flex_flow": null,
            "grid_area": null,
            "grid_auto_columns": null,
            "grid_auto_flow": null,
            "grid_auto_rows": null,
            "grid_column": null,
            "grid_gap": null,
            "grid_row": null,
            "grid_template_areas": null,
            "grid_template_columns": null,
            "grid_template_rows": null,
            "height": null,
            "justify_content": null,
            "justify_items": null,
            "left": null,
            "margin": null,
            "max_height": null,
            "max_width": null,
            "min_height": null,
            "min_width": null,
            "object_fit": null,
            "object_position": null,
            "order": null,
            "overflow": null,
            "overflow_x": null,
            "overflow_y": null,
            "padding": null,
            "right": null,
            "top": null,
            "visibility": null,
            "width": null
          }
        },
        "dd94570ec094445f98cb5eb9f5a59dbf": {
          "model_module": "@jupyter-widgets/base",
          "model_name": "LayoutModel",
          "model_module_version": "1.2.0",
          "state": {
            "_model_module": "@jupyter-widgets/base",
            "_model_module_version": "1.2.0",
            "_model_name": "LayoutModel",
            "_view_count": null,
            "_view_module": "@jupyter-widgets/base",
            "_view_module_version": "1.2.0",
            "_view_name": "LayoutView",
            "align_content": null,
            "align_items": null,
            "align_self": null,
            "border": null,
            "bottom": null,
            "display": null,
            "flex": null,
            "flex_flow": null,
            "grid_area": null,
            "grid_auto_columns": null,
            "grid_auto_flow": null,
            "grid_auto_rows": null,
            "grid_column": null,
            "grid_gap": null,
            "grid_row": null,
            "grid_template_areas": null,
            "grid_template_columns": null,
            "grid_template_rows": null,
            "height": null,
            "justify_content": null,
            "justify_items": null,
            "left": null,
            "margin": null,
            "max_height": null,
            "max_width": null,
            "min_height": null,
            "min_width": null,
            "object_fit": null,
            "object_position": null,
            "order": null,
            "overflow": null,
            "overflow_x": null,
            "overflow_y": null,
            "padding": null,
            "right": null,
            "top": null,
            "visibility": null,
            "width": null
          }
        },
        "654aaf112d254fa2bc72ee9c7022c6b6": {
          "model_module": "@jupyter-widgets/controls",
          "model_name": "DescriptionStyleModel",
          "model_module_version": "1.5.0",
          "state": {
            "_model_module": "@jupyter-widgets/controls",
            "_model_module_version": "1.5.0",
            "_model_name": "DescriptionStyleModel",
            "_view_count": null,
            "_view_module": "@jupyter-widgets/base",
            "_view_module_version": "1.2.0",
            "_view_name": "StyleView",
            "description_width": ""
          }
        },
        "7928d920ef214e4b95895159cf98b828": {
          "model_module": "@jupyter-widgets/base",
          "model_name": "LayoutModel",
          "model_module_version": "1.2.0",
          "state": {
            "_model_module": "@jupyter-widgets/base",
            "_model_module_version": "1.2.0",
            "_model_name": "LayoutModel",
            "_view_count": null,
            "_view_module": "@jupyter-widgets/base",
            "_view_module_version": "1.2.0",
            "_view_name": "LayoutView",
            "align_content": null,
            "align_items": null,
            "align_self": null,
            "border": null,
            "bottom": null,
            "display": null,
            "flex": null,
            "flex_flow": null,
            "grid_area": null,
            "grid_auto_columns": null,
            "grid_auto_flow": null,
            "grid_auto_rows": null,
            "grid_column": null,
            "grid_gap": null,
            "grid_row": null,
            "grid_template_areas": null,
            "grid_template_columns": null,
            "grid_template_rows": null,
            "height": null,
            "justify_content": null,
            "justify_items": null,
            "left": null,
            "margin": null,
            "max_height": null,
            "max_width": null,
            "min_height": null,
            "min_width": null,
            "object_fit": null,
            "object_position": null,
            "order": null,
            "overflow": null,
            "overflow_x": null,
            "overflow_y": null,
            "padding": null,
            "right": null,
            "top": null,
            "visibility": null,
            "width": "20px"
          }
        },
        "d131fac3955541899b86f1ea6980548d": {
          "model_module": "@jupyter-widgets/controls",
          "model_name": "ProgressStyleModel",
          "model_module_version": "1.5.0",
          "state": {
            "_model_module": "@jupyter-widgets/controls",
            "_model_module_version": "1.5.0",
            "_model_name": "ProgressStyleModel",
            "_view_count": null,
            "_view_module": "@jupyter-widgets/base",
            "_view_module_version": "1.2.0",
            "_view_name": "StyleView",
            "bar_color": null,
            "description_width": ""
          }
        },
        "357066f3e9e949f4bc980b01070eb86c": {
          "model_module": "@jupyter-widgets/base",
          "model_name": "LayoutModel",
          "model_module_version": "1.2.0",
          "state": {
            "_model_module": "@jupyter-widgets/base",
            "_model_module_version": "1.2.0",
            "_model_name": "LayoutModel",
            "_view_count": null,
            "_view_module": "@jupyter-widgets/base",
            "_view_module_version": "1.2.0",
            "_view_name": "LayoutView",
            "align_content": null,
            "align_items": null,
            "align_self": null,
            "border": null,
            "bottom": null,
            "display": null,
            "flex": null,
            "flex_flow": null,
            "grid_area": null,
            "grid_auto_columns": null,
            "grid_auto_flow": null,
            "grid_auto_rows": null,
            "grid_column": null,
            "grid_gap": null,
            "grid_row": null,
            "grid_template_areas": null,
            "grid_template_columns": null,
            "grid_template_rows": null,
            "height": null,
            "justify_content": null,
            "justify_items": null,
            "left": null,
            "margin": null,
            "max_height": null,
            "max_width": null,
            "min_height": null,
            "min_width": null,
            "object_fit": null,
            "object_position": null,
            "order": null,
            "overflow": null,
            "overflow_x": null,
            "overflow_y": null,
            "padding": null,
            "right": null,
            "top": null,
            "visibility": null,
            "width": null
          }
        },
        "bf5afd38a2b943d49e64c14e93494e0c": {
          "model_module": "@jupyter-widgets/controls",
          "model_name": "DescriptionStyleModel",
          "model_module_version": "1.5.0",
          "state": {
            "_model_module": "@jupyter-widgets/controls",
            "_model_module_version": "1.5.0",
            "_model_name": "DescriptionStyleModel",
            "_view_count": null,
            "_view_module": "@jupyter-widgets/base",
            "_view_module_version": "1.2.0",
            "_view_name": "StyleView",
            "description_width": ""
          }
        }
      }
    }
  },
  "cells": [
    {
      "cell_type": "markdown",
      "metadata": {
        "id": "jRN3zBA4uiro"
      },
      "source": [
        "# Agentes"
      ]
    },
    {
      "cell_type": "markdown",
      "metadata": {
        "id": "N1MAHJCfumhU"
      },
      "source": [
        "**Instalações e importações necessárias**\n"
      ]
    },
    {
      "cell_type": "code",
      "execution_count": null,
      "metadata": {
        "id": "KfLzapEfufTu"
      },
      "outputs": [],
      "source": [
        "!pip install -qU langchain langchain-huggingface langchain_community langchainhub\n",
        "from langchain.agents import AgentExecutor, create_react_agent\n",
        "from langchain_huggingface import HuggingFaceEndpoint\n",
        "from langchain_core.tools import tool\n",
        "from transformers import pipeline\n",
        "from langchain import hub\n",
        "import getpass\n",
        "import os"
      ]
    },
    {
      "cell_type": "markdown",
      "source": [
        "API key para usar endpoints do HuggingFace, através do LangChain"
      ],
      "metadata": {
        "id": "Tjw2_5FXlyxf"
      }
    },
    {
      "cell_type": "code",
      "execution_count": null,
      "metadata": {
        "id": "_L2x2o2ku4NJ"
      },
      "outputs": [],
      "source": [
        "os.environ[\"HUGGINGFACEHUB_API_TOKEN\"] = \"your_api_key\""
      ]
    },
    {
      "cell_type": "markdown",
      "metadata": {
        "id": "nYmrrTYdCpds"
      },
      "source": [
        "Escolha do modelo a ser utilizado:"
      ]
    },
    {
      "cell_type": "code",
      "execution_count": null,
      "metadata": {
        "colab": {
          "base_uri": "https://localhost:8080/"
        },
        "collapsed": true,
        "id": "oGGJemyMu-tk",
        "outputId": "edb92ef7-21df-4a3f-b51d-c5ee98ed1fc3"
      },
      "outputs": [
        {
          "output_type": "stream",
          "name": "stdout",
          "text": [
            "The token has not been saved to the git credentials helper. Pass `add_to_git_credential=True` in this function directly or `--add-to-git-credential` if using via `huggingface-cli` if you want to set the git credential as well.\n",
            "Token is valid (permission: write).\n",
            "Your token has been saved to /root/.cache/huggingface/token\n",
            "Login successful\n"
          ]
        }
      ],
      "source": [
        "repo_id = \"mistralai/Mistral-7B-Instruct-v0.2\"\n",
        "\n",
        "llm = HuggingFaceEndpoint(\n",
        "    repo_id=repo_id, temperature=0.5, verbose=True\n",
        ")"
      ]
    },
    {
      "cell_type": "markdown",
      "metadata": {
        "id": "lVilTyVkvVzs"
      },
      "source": [
        "**Criação de tools**"
      ]
    },
    {
      "cell_type": "markdown",
      "metadata": {
        "id": "S0DcS4MMC4H1"
      },
      "source": [
        "Tool para resumir textos:"
      ]
    },
    {
      "cell_type": "code",
      "execution_count": null,
      "metadata": {
        "id": "0igBWY7avYI9"
      },
      "outputs": [],
      "source": [
        "summarization_pipeline = pipeline(\"summarization\")\n",
        "\n",
        "@tool\n",
        "def summarize_text(text: str) -> str:\n",
        "  \"\"\"Summarize the provided text.\"\"\"\n",
        "\n",
        "  summary = summarization_pipeline(text, max_length=20, min_length=10, do_sample=False)\n",
        "  return summary[0]['summary_text']"
      ]
    },
    {
      "cell_type": "markdown",
      "metadata": {
        "id": "1-AKu0lJC9kf"
      },
      "source": [
        "Tool para análise de sentimentos:"
      ]
    },
    {
      "cell_type": "code",
      "execution_count": null,
      "metadata": {
        "collapsed": true,
        "id": "z7lm0WTgvc3v"
      },
      "outputs": [],
      "source": [
        "sentiment_pipeline = pipeline('sentiment-analysis')\n",
        "\n",
        "@tool\n",
        "def analyze_sentiment(text: str) -> dict:\n",
        "    \"\"\"Analyze sentiment of the provided text.\"\"\"\n",
        "    return sentiment_pipeline(text)[0]"
      ]
    },
    {
      "cell_type": "markdown",
      "metadata": {
        "id": "DSbNTltuDAkU"
      },
      "source": [
        "Tool para identificar emoções:"
      ]
    },
    {
      "cell_type": "code",
      "execution_count": null,
      "metadata": {
        "collapsed": true,
        "id": "It2MrS_KvhBK"
      },
      "outputs": [],
      "source": [
        "emotion_pipeline = pipeline(\"text-classification\", model=\"bhadresh-savani/distilbert-base-uncased-emotion\")\n",
        "\n",
        "@tool\n",
        "def classify_emotion(text: str) -> dict:\n",
        "    \"\"\"Classify the emotion expressed in the provided text.\"\"\"\n",
        "    return emotion_pipeline(text)[0]"
      ]
    },
    {
      "cell_type": "markdown",
      "metadata": {
        "id": "eBMM15dADFo0"
      },
      "source": [
        "Tool para identificar tópicos em um texto:"
      ]
    },
    {
      "cell_type": "code",
      "execution_count": null,
      "metadata": {
        "collapsed": true,
        "id": "CP5gtqIBvl3w"
      },
      "outputs": [],
      "source": [
        "topic_classification_pipeline = pipeline(\"zero-shot-classification\", model=\"facebook/bart-large-mnli\")\n",
        "\n",
        "@tool\n",
        "def identify_topic(text: str) -> dict:\n",
        "    \"\"\"Identify the main topic in the provided text using zero-shot classification.\"\"\"\n",
        "    candidate_labels = [\"technology\", \"health\", \"finance\", \"sports\", \"education\", \"entertainment\", \"politics\"]\n",
        "    result = topic_classification_pipeline(text, candidate_labels)\n",
        "    return {\n",
        "        \"label\": result['labels'][0],\n",
        "        \"score\": result['scores'][0]\n",
        "    }"
      ]
    },
    {
      "cell_type": "markdown",
      "metadata": {
        "id": "ljiO6z8Hvswz"
      },
      "source": [
        "**Criação do agente**"
      ]
    },
    {
      "cell_type": "code",
      "execution_count": null,
      "metadata": {
        "id": "yKiv6e8C43rM"
      },
      "outputs": [],
      "source": [
        "from langchain.agents import create_react_agent, AgentExecutor\n",
        "\n",
        "tools = [analyze_sentiment, summarize_text, classify_emotion, identify_topic]\n",
        "\n",
        "prompt = hub.pull(\"hwchase17/react\")\n",
        "agent = create_react_agent(llm, tools, prompt)\n",
        "agent_executor = AgentExecutor(agent=agent, tools=tools, verbose=True)"
      ]
    },
    {
      "cell_type": "markdown",
      "metadata": {
        "id": "0Mt3h-VevwwL"
      },
      "source": [
        "**Exemplos de funcionamento**"
      ]
    },
    {
      "cell_type": "markdown",
      "metadata": {
        "id": "dotsXEmNEA7n"
      },
      "source": [
        "Entrada requer análise de sentimentos\n"
      ]
    },
    {
      "cell_type": "code",
      "execution_count": null,
      "metadata": {
        "id": "S9Ywwx4fwHad",
        "colab": {
          "base_uri": "https://localhost:8080/"
        },
        "outputId": "5e263e06-0e3d-4a70-e340-2f5c3ff15e64"
      },
      "outputs": [
        {
          "output_type": "stream",
          "name": "stdout",
          "text": [
            "\n",
            "\n",
            "\u001b[1m> Entering new AgentExecutor chain...\u001b[0m\n",
            "\u001b[32;1m\u001b[1;3m I need to analyze the sentiment of the given phrase\n",
            "Action: analyze_sentiment\n",
            "Action Input: 'That was a fun movie!'\n",
            "Observation\u001b[0m\u001b[36;1m\u001b[1;3m{'label': 'POSITIVE', 'score': 0.9996129870414734}\u001b[0m\u001b[32;1m\u001b[1;3m The sentiment of the phrase is positive\n",
            "Final Answer: The sentiment of the phrase 'That was a fun movie!' is positive.</s>\u001b[0m\n",
            "\n",
            "\u001b[1m> Finished chain.\u001b[0m\n"
          ]
        }
      ],
      "source": [
        "result = agent_executor.invoke({\"input\": \"What is the sentiment of the phrase: 'That was a fun movie!'?\"})"
      ]
    },
    {
      "cell_type": "markdown",
      "metadata": {
        "id": "2UPri4OAEN5O"
      },
      "source": [
        "Entrada requer sumarização de textos"
      ]
    },
    {
      "cell_type": "code",
      "execution_count": null,
      "metadata": {
        "id": "HJiatlzI5sbQ",
        "colab": {
          "base_uri": "https://localhost:8080/"
        },
        "outputId": "af14644c-905e-43ca-a11f-5562a68b01b9"
      },
      "outputs": [
        {
          "output_type": "stream",
          "name": "stdout",
          "text": [
            "\n",
            "\n",
            "\u001b[1m> Entering new AgentExecutor chain...\u001b[0m\n",
            "\u001b[32;1m\u001b[1;3m I need to summarize the text\n",
            "Action: summarize_text\n",
            "Action Input: 'Interstellar is an epic journey directed by Christopher Nolan in a dystopian future where Earth faces an environmental crisis. Cooper, a former pilot, is recruited for an interstellar expedition.'\n",
            "Observation\u001b[0m\u001b[33;1m\u001b[1;3m Interstellar is an epic journey directed by Christopher Nolan in a dystopian future where Earth faces an\u001b[0m\u001b[32;1m\u001b[1;3m The summarize_text function returned the first part of the summary. I need to get the second part.\n",
            "Action: summarize_text\n",
            "Action Input: 'Cooper, a former pilot, is recruited for an interstellar expedition.'\n",
            "Observation\u001b[0m\u001b[33;1m\u001b[1;3m Cooper, a former pilot, is recruited for an interstellar expedition . 'Cooper,\u001b[0m\u001b[32;1m\u001b[1;3m The summarize_text function returned the second part of the summary. I have the final answer.\n",
            "Final Answer: Interstellar is an epic journey directed by Christopher Nolan in a dystopian future where Earth faces an environmental crisis. Cooper, a former pilot, is recruited for an interstellar expedition.</s>\u001b[0m\n",
            "\n",
            "\u001b[1m> Finished chain.\u001b[0m\n"
          ]
        }
      ],
      "source": [
        "result = agent_executor.invoke({\"input\": \"Make the follow text shorter: 'Interstellar is an epic journey that transcends the bounds of space and time. Directed by Christopher Nolan, the film immerses viewers in a dystopian future where Earth faces a devastating environmental crisis. Amidst this turmoil, Cooper, a former pilot turned farmer, is recruited to lead an interstellar expedition in search of a new home for humanity.’ \"})"
      ]
    },
    {
      "cell_type": "markdown",
      "metadata": {
        "id": "jYz4bKIqEUgS"
      },
      "source": [
        "Entrada requer identificação de emoções\n"
      ]
    },
    {
      "cell_type": "code",
      "execution_count": null,
      "metadata": {
        "id": "Tei2BaEG6F2G",
        "colab": {
          "base_uri": "https://localhost:8080/"
        },
        "outputId": "d6e3482b-a3ec-4071-e294-7881b79ddf4a"
      },
      "outputs": [
        {
          "output_type": "stream",
          "name": "stdout",
          "text": [
            "\n",
            "\n",
            "\u001b[1m> Entering new AgentExecutor chain...\u001b[0m\n",
            "\u001b[32;1m\u001b[1;3m I need to classify the emotion expressed in the given text\n",
            "Action: classify_emotion\n",
            "Action Input: 'I did not have fun watching the movie!'\n",
            "Observation\u001b[0m\u001b[38;5;200m\u001b[1;3m{'label': 'anger', 'score': 0.8137744665145874}\u001b[0m\u001b[32;1m\u001b[1;3m I now know the final answer\n",
            "Final Answer: The person expressed anger while watching the movie.</s>\u001b[0m\n",
            "\n",
            "\u001b[1m> Finished chain.\u001b[0m\n"
          ]
        }
      ],
      "source": [
        "result = agent_executor.invoke({\"input\": \"Classify the emotion expressed by the phrase: 'I did not have fun watching the movie!'?\"})"
      ]
    },
    {
      "cell_type": "markdown",
      "metadata": {
        "id": "2wBGb4-lEYaW"
      },
      "source": [
        "Entrada requer identificação de tópicos"
      ]
    },
    {
      "cell_type": "code",
      "execution_count": null,
      "metadata": {
        "id": "EspwkEST6gPE",
        "colab": {
          "base_uri": "https://localhost:8080/"
        },
        "outputId": "032b9e9f-5275-4526-c3cd-2ec973a64c89"
      },
      "outputs": [
        {
          "output_type": "stream",
          "name": "stdout",
          "text": [
            "\n",
            "\n",
            "\u001b[1m> Entering new AgentExecutor chain...\u001b[0m\n",
            "\u001b[32;1m\u001b[1;3m I need to identify the topics in the text\n",
            "Action: identify_topic\n",
            "Action Input: 'Streaming services offer a range of digital content like movies, TV shows, music, and podcasts for on-demand consumption, typically through subscription or pay-per-use models.'\n",
            "Observation\u001b[0m\u001b[36;1m\u001b[1;3m{'label': 'technology', 'score': 0.5736660957336426}\u001b[0m\u001b[32;1m\u001b[1;3m I only got one topic from the text, I should check if there's more information\n",
            "Action: summarize_text\n",
            "Action Input: 'Streaming services offer a range of digital content like movies, TV shows, music, and podcasts for on-demand consumption, typically through subscription or pay-per-use models.'\n",
            "Observation\u001b[0m\u001b[33;1m\u001b[1;3m Streaming services offer a range of digital content like movies, TV shows, music, and\u001b[0m\u001b[32;1m\u001b[1;3m It seems like the summary didn't capture the full text, let me try again\n",
            "Action: summarize_text\n",
            "Action Input: 'Streaming services offer a range of digital content like movies, TV shows, music, and podcasts for on-demand consumption, typically through subscription or pay-per-use models.'\n",
            "Observation\u001b[0m\u001b[33;1m\u001b[1;3m Streaming services offer a range of digital content like movies, TV shows, music, and\u001b[0m\u001b[32;1m\u001b[1;3m The summarization function seems to be having trouble with this text, let me try analyzing the sentiment instead\n",
            "Action: analyze_sentiment\n",
            "Action Input: 'Streaming services offer a range of digital content like movies, TV shows, music, and podcasts for on-demand consumption, typically through subscription or pay-per-use models.'\n",
            "Observation\u001b[0m\u001b[36;1m\u001b[1;3m{'label': 'NEGATIVE', 'score': 0.9478990435600281}\u001b[0m\u001b[32;1m\u001b[1;3m The sentiment analysis didn't provide any useful information, let me try one more time with summarize_text\n",
            "Action: summarize_text\n",
            "Action Input: 'Streaming services offer a range of digital content like movies, TV shows, music, and podcasts for on-demand consumption, typically through subscription or pay-per-use models.'\n",
            "Observation\u001b[0m\u001b[33;1m\u001b[1;3m Streaming services offer a range of digital content like movies, TV shows, music, and\u001b[0m\u001b[32;1m\u001b[1;3m I think I've had enough attempts at summarizing this text, let me try classifying the emotion instead\n",
            "Action: classify_emotion\n",
            "Action Input: 'Streaming services offer a range of digital content like movies, TV shows, music, and podcasts for on-demand consumption, typically through subscription or pay-per-use models.'\n",
            "Observation\u001b[0m\u001b[38;5;200m\u001b[1;3m{'label': 'joy', 'score': 0.9692683815956116}\u001b[0m\u001b[32;1m\u001b[1;3m The emotion classification also didn't provide any useful information, it seems like the text doesn't contain any clear topic or emotion, I should consider the question as unanswerable\n",
            "Final Answer: I'm unable to determine the topics in the given text.</s>\u001b[0m\n",
            "\n",
            "\u001b[1m> Finished chain.\u001b[0m\n"
          ]
        }
      ],
      "source": [
        "result = agent_executor.invoke({\"input\": \"What are the topics on the following text: 'Streaming services offer a range of digital content like movies, TV shows, music, and podcasts for on-demand consumption, typically through subscription or pay-per-use models.’?\"})"
      ]
    },
    {
      "cell_type": "markdown",
      "source": [
        "# LangSmith"
      ],
      "metadata": {
        "id": "o1bdsI33poU_"
      }
    },
    {
      "cell_type": "markdown",
      "source": [
        "Instalações e importações necessárias"
      ],
      "metadata": {
        "id": "lkfDkJKzXejf"
      }
    },
    {
      "cell_type": "code",
      "source": [
        "!pip install -qU langsmith langchain-cohere\n",
        "from langchain_cohere import ChatCohere"
      ],
      "metadata": {
        "id": "ioYyYD6tmL_6"
      },
      "execution_count": null,
      "outputs": []
    },
    {
      "cell_type": "markdown",
      "source": [
        "API keys necessárias"
      ],
      "metadata": {
        "id": "YVGLE9COYHHU"
      }
    },
    {
      "cell_type": "code",
      "source": [
        "os.environ[\"COHERE_API_KEY\"] = \"your_api_key\""
      ],
      "metadata": {
        "id": "ncsny0cPmpDj"
      },
      "execution_count": null,
      "outputs": []
    },
    {
      "cell_type": "code",
      "source": [
        "langchain_api_key = \"your_api_key\""
      ],
      "metadata": {
        "id": "hWFwax2ywkwF"
      },
      "execution_count": null,
      "outputs": []
    },
    {
      "cell_type": "markdown",
      "source": [
        "Instanciação do modelo"
      ],
      "metadata": {
        "id": "HhC5Mo18YOzc"
      }
    },
    {
      "cell_type": "code",
      "source": [
        "chat = ChatCohere()"
      ],
      "metadata": {
        "id": "9aso_4lynLXR"
      },
      "execution_count": null,
      "outputs": []
    },
    {
      "cell_type": "markdown",
      "source": [
        "Definição das variáveis de ambiente para conexão com o LangSmith"
      ],
      "metadata": {
        "id": "bQz-X9ziYKXS"
      }
    },
    {
      "cell_type": "code",
      "source": [
        "os.environ[\"LANGCHAIN_TRACING_V2\"] = \"true\"\n",
        "os.environ[\"LANGCHAIN_PROJECT\"] = f\"LangChain_Presentation\"\n",
        "os.environ[\"LANGCHAIN_ENDPOINT\"] = \"https://api.smith.langchain.com\"\n",
        "os.environ[\"LANGCHAIN_API_KEY\"] = langchain_api_key"
      ],
      "metadata": {
        "id": "HgENrD7HnSey"
      },
      "execution_count": null,
      "outputs": []
    },
    {
      "cell_type": "code",
      "source": [
        "from langsmith import Client\n",
        "client = Client()"
      ],
      "metadata": {
        "id": "XybWS5GEndcn"
      },
      "execution_count": null,
      "outputs": []
    },
    {
      "cell_type": "markdown",
      "source": [
        "Exemplos que serão inseridos em um dataset"
      ],
      "metadata": {
        "id": "xF-8kL0AYmPT"
      }
    },
    {
      "cell_type": "code",
      "source": [
        "example_inputs = [\n",
        "    (\"What is the largest mammal?\", \"The blue whale\"),\n",
        "    (\"What do mammals and birds have in common?\", \"They are both warm-blooded\"),\n",
        "    (\"What are reptilees knwown for?\", \"Having scales\"),\n",
        "    (\"What's the main characteristic of amphibians?\", \"They live both in water and on land\"),\n",
        "]"
      ],
      "metadata": {
        "id": "ZFFZqtOarW72"
      },
      "execution_count": null,
      "outputs": []
    },
    {
      "cell_type": "markdown",
      "source": [
        "Criação de um dataset para as perguntas e respostas"
      ],
      "metadata": {
        "id": "D9KXXjy4Yv9j"
      }
    },
    {
      "cell_type": "code",
      "source": [
        "dataset = client.create_dataset(\n",
        "    dataset_name=\"Elementary Animal Questions\",\n",
        "    description=\"Questions and answers about animal phylogenetics.\"\n",
        ")"
      ],
      "metadata": {
        "id": "nBboGyGyrYzF"
      },
      "execution_count": null,
      "outputs": []
    },
    {
      "cell_type": "markdown",
      "source": [
        "Inserção dos exemplos no dataset criados"
      ],
      "metadata": {
        "id": "5a9ioDn9Y71i"
      }
    },
    {
      "cell_type": "code",
      "source": [
        "for input_prompt, output_answer in example_inputs:\n",
        "  client.create_example(\n",
        "      inputs={\"question\": input_prompt},\n",
        "      outputs={\"answer\": output_answer},\n",
        "      dataset_id=dataset.id\n",
        "  )"
      ],
      "metadata": {
        "id": "_2SunPVnr3js"
      },
      "execution_count": null,
      "outputs": []
    },
    {
      "cell_type": "markdown",
      "source": [
        "Avaliação dos exemplos do dataset"
      ],
      "metadata": {
        "id": "bkXFFSpjZMV3"
      }
    },
    {
      "cell_type": "code",
      "source": [
        "from langchain_core.prompts import ChatPromptTemplate\n",
        "from langchain_core.output_parsers import StrOutputParser\n",
        "from langsmith.evaluation import evaluate\n",
        "\n",
        "# Target task definition\n",
        "prompt = ChatPromptTemplate.from_messages([\n",
        "  (\"system\", \"Please review the user query below and determine if it contains any form of toxic behavior, such as insults, threats, or highly negative comments. Respond with 'Toxic' if it does, and 'Not toxic' if it doesn't.\"),\n",
        "  (\"user\", \"{question}\")\n",
        "])\n",
        "\n",
        "output_parser = StrOutputParser()\n",
        "\n",
        "chain = prompt | chat | output_parser\n",
        "\n",
        "# The name or UUID of the LangSmith dataset to evaluate on.\n",
        "# Alternatively, you can pass an iterator of examples\n",
        "data = \"Elementary Animal Questions\"\n",
        "\n",
        "# A string to prefix the experiment name with.\n",
        "# If not provided, a random string will be generated.\n",
        "experiment_prefix = \"Elementary Animal Questions\"\n",
        "\n",
        "# Evaluate the target task\n",
        "results = evaluate(\n",
        "  chain.invoke,\n",
        "  data=data,\n",
        "  experiment_prefix=experiment_prefix,\n",
        ")"
      ],
      "metadata": {
        "id": "f0vq_SQdsYGi",
        "colab": {
          "base_uri": "https://localhost:8080/",
          "height": 118,
          "referenced_widgets": [
            "ed5ed8bae8634fcc8bc606a2a4f06080",
            "86c7b7909c674f3e95c08ae3e6ab39aa",
            "279df768f4144bb8ad786956f523aebf",
            "6f0e786fefc04948985692dd6bf8a8f4",
            "d0ea8fdb468144998abfae22acafd8e1",
            "dd94570ec094445f98cb5eb9f5a59dbf",
            "654aaf112d254fa2bc72ee9c7022c6b6",
            "7928d920ef214e4b95895159cf98b828",
            "d131fac3955541899b86f1ea6980548d",
            "357066f3e9e949f4bc980b01070eb86c",
            "bf5afd38a2b943d49e64c14e93494e0c"
          ]
        },
        "outputId": "da30a18e-3923-4e56-bc1f-8eedaff9db5c"
      },
      "execution_count": null,
      "outputs": [
        {
          "output_type": "stream",
          "name": "stdout",
          "text": [
            "View the evaluation results for experiment: 'Elementary Animal Questions-04b40433' at:\n",
            "https://smith.langchain.com/o/15793a46-90bc-5ff7-86c1-16f9efe55fab/datasets/374f26f5-5be9-4381-80eb-d92d16e8365a/compare?selectedSessions=6c1359c3-4d1b-4f23-964b-15a3fd9ecd46\n",
            "\n",
            "\n"
          ]
        },
        {
          "output_type": "display_data",
          "data": {
            "text/plain": [
              "0it [00:00, ?it/s]"
            ],
            "application/vnd.jupyter.widget-view+json": {
              "version_major": 2,
              "version_minor": 0,
              "model_id": "ed5ed8bae8634fcc8bc606a2a4f06080"
            }
          },
          "metadata": {}
        }
      ]
    }
  ]
}