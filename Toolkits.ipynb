{
  "nbformat": 4,
  "nbformat_minor": 0,
  "metadata": {
    "colab": {
      "provenance": []
    },
    "kernelspec": {
      "name": "python3",
      "display_name": "Python 3"
    },
    "language_info": {
      "name": "python"
    }
  },
  "cells": [
    {
      "cell_type": "code",
      "execution_count": null,
      "metadata": {
        "id": "KfLzapEfufTu",
        "collapsed": true
      },
      "outputs": [],
      "source": [
        "!pip install -qU langchain langchain_community langchain-cohere langchainhub\n",
        "from langchain.agents import AgentExecutor, create_react_agent\n",
        "from langchain_cohere.llms import Cohere\n",
        "from langchain_core.tools import tool\n",
        "from langchain import hub\n",
        "import getpass\n",
        "import os"
      ]
    },
    {
      "cell_type": "code",
      "source": [
        "os.environ[\"COHERE_API_KEY\"] = \"your_api_key\""
      ],
      "metadata": {
        "id": "0h9xGow_l3_j"
      },
      "execution_count": null,
      "outputs": []
    },
    {
      "cell_type": "code",
      "source": [
        "llm = Cohere()"
      ],
      "metadata": {
        "id": "kox9cV2fmMVu"
      },
      "execution_count": null,
      "outputs": []
    },
    {
      "cell_type": "code",
      "source": [
        "from langchain_community.agent_toolkits.nasa.toolkit import NasaToolkit\n",
        "from langchain_community.utilities.nasa import NasaAPIWrapper\n",
        "\n",
        "nasa = NasaAPIWrapper()\n",
        "toolkit = NasaToolkit.from_nasa_api_wrapper(nasa)"
      ],
      "metadata": {
        "id": "4Z8LPiLNuTDv"
      },
      "execution_count": null,
      "outputs": []
    },
    {
      "cell_type": "code",
      "source": [
        "for tool in toolkit.tools:\n",
        "  print('Nome da tool: ', tool.name)\n",
        "  print('Descrição da tool: ', tool.description)"
      ],
      "metadata": {
        "id": "sSR-FeQ4uVVG",
        "colab": {
          "base_uri": "https://localhost:8080/"
        },
        "outputId": "801fe094-22cc-4851-95cd-f61e7542973c"
      },
      "execution_count": null,
      "outputs": [
        {
          "output_type": "stream",
          "name": "stdout",
          "text": [
            "Nome da tool:  Search NASA Image and Video Library media\n",
            "Descrição da tool:  \n",
            "    This tool is a wrapper around NASA's search API, useful when you need to search through NASA's Image and Video Library. \n",
            "    The input to this tool is a query specified by the user, and will be passed into NASA's `search` function.\n",
            "    \n",
            "    At least one parameter must be provided.\n",
            "\n",
            "    There are optional parameters that can be passed by the user based on their query\n",
            "    specifications. Each item in this list contains pound sign (#) separated values, the first value is the parameter name, \n",
            "    the second value is the datatype and the third value is the description: {{\n",
            "\n",
            "        - q#string#Free text search terms to compare to all indexed metadata.\n",
            "        - center#string#NASA center which published the media.\n",
            "        - description#string#Terms to search for in “Description” fields.\n",
            "        - description_508#string#Terms to search for in “508 Description” fields.\n",
            "        - keywords #string#Terms to search for in “Keywords” fields. Separate multiple values with commas.\n",
            "        - location #string#Terms to search for in “Location” fields.\n",
            "        - media_type#string#Media types to restrict the search to. Available types: [“image”,“video”, “audio”]. Separate multiple values with commas.\n",
            "        - nasa_id #string#The media asset’s NASA ID.\n",
            "        - page#integer#Page number, starting at 1, of results to get.-\n",
            "        - page_size#integer#Number of results per page. Default: 100.\n",
            "        - photographer#string#The primary photographer’s name.\n",
            "        - secondary_creator#string#A secondary photographer/videographer’s name.\n",
            "        - title #string#Terms to search for in “Title” fields.\n",
            "        - year_start#string#The start year for results. Format: YYYY.\n",
            "        - year_end #string#The end year for results. Format: YYYY.\n",
            "\n",
            "    }}\n",
            "    \n",
            "    Below are several task descriptions along with their respective input examples.\n",
            "    Task: get the 2nd page of image and video content starting from the year 2002 to 2010\n",
            "    Example Input: {{\"year_start\":  \"2002\", \"year_end\":  \"2010\", \"page\": 2}}\n",
            "    \n",
            "    Task: get the image and video content of saturn photographed by John Appleseed\n",
            "    Example Input: {{\"q\": \"saturn\", \"photographer\": \"John Appleseed\"}}\n",
            "    \n",
            "    Task: search for Meteor Showers with description \"Search Description\" with media type image\n",
            "    Example Input: {{\"q\": \"Meteor Shower\", \"description\": \"Search Description\", \"media_type\": \"image\"}}\n",
            "    \n",
            "    Task: get the image and video content from year 2008 to 2010 from Kennedy Center\n",
            "    Example Input: {{\"year_start\":  \"2002\", \"year_end\":  \"2010\", \"location\": \"Kennedy Center}}\n",
            "    \n",
            "Nome da tool:  Get NASA Image and Video Library media metadata manifest\n",
            "Descrição da tool:  \n",
            "    This tool is a wrapper around NASA's media asset manifest API, useful when you need to retrieve a media \n",
            "    asset's manifest. The input to this tool should include a string representing a NASA ID for a media asset that the user is trying to get the media asset manifest data for. The NASA ID will be passed as a string into NASA's `get_media_metadata_manifest` function.\n",
            "\n",
            "    The following list are some examples of NASA IDs for a media asset that you can use to better extract the NASA ID from the input string to the tool.\n",
            "    - GSFC_20171102_Archive_e000579\n",
            "    - Launch-Sound_Delta-PAM-Random-Commentary\n",
            "    - iss066m260341519_Expedition_66_Education_Inflight_with_Random_Lake_School_District_220203\n",
            "    - 6973610\n",
            "    - GRC-2020-CM-0167.4\n",
            "    - Expedition_55_Inflight_Japan_VIP_Event_May_31_2018_659970\n",
            "    - NASA 60th_SEAL_SLIVER_150DPI\n",
            "\n",
            "Nome da tool:  Get NASA Image and Video Library media metadata location\n",
            "Descrição da tool:  \n",
            "    This tool is a wrapper around NASA's media asset metadata location API, useful when you need to retrieve the media asset's metadata. The input to this tool should include a string representing a NASA ID for a media asset that the user is trying to get the media asset metadata location for. The NASA ID will be passed as a string into NASA's `get_media_metadata_manifest` function.\n",
            "\n",
            "    The following list are some examples of NASA IDs for a media asset that you can use to better extract the NASA ID from the input string to the tool.\n",
            "    - GSFC_20171102_Archive_e000579\n",
            "    - Launch-Sound_Delta-PAM-Random-Commentary\n",
            "    - iss066m260341519_Expedition_66_Education_Inflight_with_Random_Lake_School_District_220203\n",
            "    - 6973610\n",
            "    - GRC-2020-CM-0167.4\n",
            "    - Expedition_55_Inflight_Japan_VIP_Event_May_31_2018_659970\n",
            "    - NASA 60th_SEAL_SLIVER_150DPI\n",
            "\n",
            "Nome da tool:  Get NASA Image and Video Library video captions location\n",
            "Descrição da tool:  \n",
            "    This tool is a wrapper around NASA's video assests caption location API, useful when you need \n",
            "    to retrieve the location of the captions of a specific video. The input to this tool should include a string representing a NASA ID for a video media asset that the user is trying to get the get the location of the captions for. The NASA ID will be passed as a string into NASA's `get_media_metadata_manifest` function.\n",
            "\n",
            "    The following list are some examples of NASA IDs for a video asset that you can use to better extract the NASA ID from the input string to the tool.\n",
            "    - 2017-08-09 - Video File RS-25 Engine Test\n",
            "    - 20180415-TESS_Social_Briefing\n",
            "    - 201_TakingWildOutOfWildfire\n",
            "    - 2022-H1_V_EuropaClipper-4\n",
            "    - 2022_0429_Recientemente\n",
            "\n"
          ]
        }
      ]
    },
    {
      "cell_type": "code",
      "source": [
        "prompt = hub.pull(\"hwchase17/react\")\n",
        "agent_nasa = create_react_agent(llm, toolkit.get_tools(), prompt)\n",
        "agent_executor_nasa = AgentExecutor(agent=agent_nasa, tools=toolkit.get_tools(), verbose=True)"
      ],
      "metadata": {
        "id": "LCod4PfguWd9"
      },
      "execution_count": null,
      "outputs": []
    },
    {
      "cell_type": "code",
      "source": [
        "agent_executor_nasa.invoke({\"input\": \"Can you find the metadata for the image PIA13005?\"})"
      ],
      "metadata": {
        "colab": {
          "base_uri": "https://localhost:8080/"
        },
        "id": "W0wNeKeKuXry",
        "outputId": "615f2501-08a3-4f97-ab33-aeac037404f9"
      },
      "execution_count": null,
      "outputs": [
        {
          "output_type": "stream",
          "name": "stdout",
          "text": [
            "\n",
            "\n",
            "\u001b[1m> Entering new AgentExecutor chain...\u001b[0m\n",
            "\u001b[32;1m\u001b[1;3m To find the metadata for the image PIA13005, input: \"Get NASA Image and Video Library media metadata manifest\" \"PIA13005\"\n",
            "Action: Get NASA Image and Video Library media metadata manifest\n",
            "Action Input: PIA13005\u001b[0m\u001b[33;1m\u001b[1;3m{\"collection\": {\"version\": \"1.0\", \"href\": \"http://images-api.nasa.gov/asset/PIA13005\", \"items\": [{\"href\": \"http://images-assets.nasa.gov/image/PIA13005/PIA13005~orig.jpg\"}, {\"href\": \"http://images-assets.nasa.gov/image/PIA13005/PIA13005~large.jpg\"}, {\"href\": \"http://images-assets.nasa.gov/image/PIA13005/PIA13005~medium.jpg\"}, {\"href\": \"http://images-assets.nasa.gov/image/PIA13005/PIA13005~small.jpg\"}, {\"href\": \"http://images-assets.nasa.gov/image/PIA13005/PIA13005~thumb.jpg\"}, {\"href\": \"http://images-assets.nasa.gov/image/PIA13005/metadata.json\"}]}}\u001b[0m\u001b[32;1m\u001b[1;3mI know the collection has a version 1.0 and 13 items in the collection, but I will need to retrieve the JSON metadata to provide the exact metadata requested. \n",
            "Action: Get NASA Image and Video Library media metadata location\n",
            "Action Input: PIA13005\u001b[0m\u001b[38;5;200m\u001b[1;3m{\"location\": \"https://images-assets.nasa.gov/image/PIA13005/metadata.json\"}\u001b[0m\u001b[32;1m\u001b[1;3mI know the image PIA13005's metadata is located at https://images-assets.nasa.gov/image/PIA13005/metadata.json. \n",
            "Final Answer: https://images-assets.nasa.gov/image/PIA13005/metadata.json\u001b[0m\n",
            "\n",
            "\u001b[1m> Finished chain.\u001b[0m\n"
          ]
        },
        {
          "output_type": "execute_result",
          "data": {
            "text/plain": [
              "{'input': 'Can you find the metadata for the image PIA13005?',\n",
              " 'output': 'https://images-assets.nasa.gov/image/PIA13005/metadata.json'}"
            ]
          },
          "metadata": {},
          "execution_count": 20
        }
      ]
    }
  ]
}