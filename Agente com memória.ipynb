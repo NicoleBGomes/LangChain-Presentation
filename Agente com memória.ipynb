{
  "nbformat": 4,
  "nbformat_minor": 0,
  "metadata": {
    "colab": {
      "provenance": []
    },
    "kernelspec": {
      "name": "python3",
      "display_name": "Python 3"
    },
    "language_info": {
      "name": "python"
    }
  },
  "cells": [
    {
      "cell_type": "markdown",
      "source": [
        "# Agente com memória\n",
        "\n"
      ],
      "metadata": {
        "id": "DDdql9FmiVG3"
      }
    },
    {
      "cell_type": "code",
      "source": [
        "!pip install -qU langchain langchain-huggingface langchain_community langchainhub google-search-results\n",
        "from langchain.agents import AgentExecutor, create_react_agent, load_tools\n",
        "from langchain.chains.conversation.memory import ConversationBufferMemory\n",
        "from langchain_community.utilities import SerpAPIWrapper\n",
        "from langchain_huggingface import HuggingFaceEndpoint\n",
        "from langchain_core.prompts import PromptTemplate\n",
        "from langchain_core.tools import tool\n",
        "from transformers import pipeline\n",
        "from langchain import hub\n",
        "import getpass\n",
        "import os"
      ],
      "metadata": {
        "id": "gaYKeDwlg55w"
      },
      "execution_count": null,
      "outputs": []
    },
    {
      "cell_type": "code",
      "source": [
        "os.environ[\"HUGGINGFACEHUB_API_TOKEN\"] = \"your_api_key\""
      ],
      "metadata": {
        "id": "djD1rBdFkZdc"
      },
      "execution_count": null,
      "outputs": []
    },
    {
      "cell_type": "code",
      "source": [
        "os.environ[\"SERPAPI_API_KEY\"] = \"your_api_key\""
      ],
      "metadata": {
        "id": "5muMq--YgsAZ"
      },
      "execution_count": null,
      "outputs": []
    },
    {
      "cell_type": "code",
      "source": [
        "repo_id = \"mistralai/Mistral-7B-Instruct-v0.2\"\n",
        "\n",
        "llm = HuggingFaceEndpoint(\n",
        "    repo_id=repo_id, temperature=0.5, verbose=True\n",
        ")"
      ],
      "metadata": {
        "collapsed": true,
        "id": "EfAZO1_wkal-"
      },
      "execution_count": null,
      "outputs": []
    },
    {
      "cell_type": "code",
      "source": [
        "tools = load_tools([\"serpapi\"])"
      ],
      "metadata": {
        "id": "StE8VgBIhndq"
      },
      "execution_count": null,
      "outputs": []
    },
    {
      "cell_type": "code",
      "source": [
        "template = '''Answer the following questions as best you can. You have access to the following tools:\n",
        "\n",
        "{tools}\n",
        "\n",
        "Use the following format:\n",
        "\n",
        "Question: the input question you must answer\n",
        "Thought: you should always think about what to do\n",
        "Action: the action to take, should be one of [{tool_names}]\n",
        "Action Input: the input to the action\n",
        "Observation: the result of the action\n",
        "... (this Thought/Action/Action Input/Observation can repeat N times)\n",
        "Thought: I now know the final answer\n",
        "Final Answer: the final answer to the original input question\n",
        "\n",
        "Begin!\n",
        "\n",
        "{chat_history}\n",
        "Question: {input}\n",
        "Thought:{agent_scratchpad}'''\n",
        "\n",
        "prompt = PromptTemplate.from_template(template)"
      ],
      "metadata": {
        "id": "7ITOCwRphqAL"
      },
      "execution_count": null,
      "outputs": []
    },
    {
      "cell_type": "code",
      "source": [
        "memory = ConversationBufferMemory(memory_key=\"chat_history\")\n",
        "agent_memory = create_react_agent(llm, tools, prompt)\n",
        "agent_executor_memory = AgentExecutor(agent=agent_memory, tools=tools, memory=memory, verbose=True)"
      ],
      "metadata": {
        "id": "GTr5q49_htqx"
      },
      "execution_count": null,
      "outputs": []
    },
    {
      "cell_type": "code",
      "source": [
        "agent_executor_memory.invoke({\"input\": \"What is the capital of Bahia?\"})"
      ],
      "metadata": {
        "id": "6-zeRS23hwRv",
        "colab": {
          "base_uri": "https://localhost:8080/"
        },
        "outputId": "f171dfb2-019a-4ea8-f623-cc7dc5c22234"
      },
      "execution_count": null,
      "outputs": [
        {
          "output_type": "stream",
          "name": "stdout",
          "text": [
            "\n",
            "\n",
            "\u001b[1m> Entering new AgentExecutor chain...\u001b[0m\n",
            "\u001b[32;1m\u001b[1;3m I don't know the capital of Bahia, I should use the search engine to find out.\n",
            "Action: Search\n",
            "Action Input: capital of Bahia\n",
            "Observation\u001b[0m\u001b[36;1m\u001b[1;3mAs Brazil's fourth largest city (by population) and the capital of Bahia state, Salvador is complex, chaotic, and colorful, with a larger-than-life culture that dates back 500 centuries. This city kept us on our toes and bedazzled us. We'll never forget it. Salvador is one of Brazil's oldest cities, founded in 1549.\u001b[0m\u001b[32;1m\u001b[1;3m The search result indicates that Salvador is the capital of Bahia, so the final answer is Salvador.\n",
            "Final Answer: Salvador is the capital of Bahia.</s>\u001b[0m\n",
            "\n",
            "\u001b[1m> Finished chain.\u001b[0m\n"
          ]
        },
        {
          "output_type": "execute_result",
          "data": {
            "text/plain": [
              "{'input': 'What is the capital of Bahia?',\n",
              " 'chat_history': '',\n",
              " 'output': 'Salvador is the capital of Bahia.</s>'}"
            ]
          },
          "metadata": {},
          "execution_count": 11
        }
      ]
    },
    {
      "cell_type": "code",
      "source": [
        "agent_executor_memory.invoke({\"input\": \"In which country the city is located?\"})"
      ],
      "metadata": {
        "id": "3Igkq5dohxsR",
        "colab": {
          "base_uri": "https://localhost:8080/"
        },
        "outputId": "b9144c0c-a663-410d-e476-0c58e07e5bba"
      },
      "execution_count": null,
      "outputs": [
        {
          "output_type": "stream",
          "name": "stdout",
          "text": [
            "\n",
            "\n",
            "\u001b[1m> Entering new AgentExecutor chain...\u001b[0m\n",
            "\u001b[32;1m\u001b[1;3m I need to find out in which country the city of Salvador is located.\n",
            "Action: Search\n",
            "Action Input: capital of Salvador country\n",
            "Observation\u001b[0m\u001b[36;1m\u001b[1;3m['The capital is San Salvador. El Salvador. Country Facts. Capital, Population, Government...', \"It is bordered on the northeast by Honduras, on the northwest by Guatemala, and on the south by the Pacific Ocean. El Salvador's capital and largest city is San ...\", 'El Salvador is the smallest and most densely populated country in Central America. It is well into its demographic transition, experiencing slower population ...', 'Capital: San Salvador ; Area: 21,041 sq km ; Population: 6.5 million ; Language: Spanish ; Life expectancy: 68 years (men) 78 years (women) ...', \"The country's capital and largest city is San Salvador. Other important cities are: Santa Ana and Sonsonate.\", 'San Salvador, capital of El Salvador. It is located on the Ace Chaute River in the Valley of the Hammocks at an elevation of 2238 feet.', \"The capital city of San Salvador has about 1.6 million people; an estimated 37.3% of El Salvador's population lives in rural areas.\", 'Capital City: San Salvador (pop. 600 000). Other Cities: Santa Ana (pop. 237 000), San Miguel (pop. 222,000), Ahuachapán (pop ...', 'Cities: Capital--San Salvador (pop. 1.7 million). Other cities--San Miguel, Ahuachapan, Santa Ana, Sonsonate. Terrain: Mountains separate country into three ...', \"... Salvador's country context and climate is provided following the visualizations ... Observed Annual Average ... capital city, San Salvador. El Salvador is among ...\"]\u001b[0m\u001b[32;1m\u001b[1;3m The city of Salvador is the capital of El Salvador.\n",
            "Final Answer: Salvador is the capital city of El Salvador.</s>\u001b[0m\n",
            "\n",
            "\u001b[1m> Finished chain.\u001b[0m\n"
          ]
        },
        {
          "output_type": "execute_result",
          "data": {
            "text/plain": [
              "{'input': 'In which country the city is located?',\n",
              " 'chat_history': 'Human: What is the capital of Bahia?\\nAI: Salvador is the capital of Bahia.</s>',\n",
              " 'output': 'Salvador is the capital city of El Salvador.</s>'}"
            ]
          },
          "metadata": {},
          "execution_count": 12
        }
      ]
    }
  ]
}