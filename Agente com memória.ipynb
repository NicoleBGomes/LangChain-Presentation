{
  "nbformat": 4,
  "nbformat_minor": 0,
  "metadata": {
    "colab": {
      "provenance": []
    },
    "kernelspec": {
      "name": "python3",
      "display_name": "Python 3"
    },
    "language_info": {
      "name": "python"
    }
  },
  "cells": [
    {
      "cell_type": "markdown",
      "source": [
        "# Agente com memória\n",
        "\n"
      ],
      "metadata": {
        "id": "DDdql9FmiVG3"
      }
    },
    {
      "cell_type": "code",
      "source": [
        "!pip install -qU langchain langchain-huggingface langchain_community langchainhub google-search-results\n",
        "from langchain.agents import AgentExecutor, create_react_agent, load_tools\n",
        "from langchain.chains.conversation.memory import ConversationBufferMemory\n",
        "from langchain_community.utilities import SerpAPIWrapper\n",
        "from langchain_huggingface import HuggingFaceEndpoint\n",
        "from langchain_core.prompts import PromptTemplate\n",
        "from langchain_core.tools import tool\n",
        "from transformers import pipeline\n",
        "from langchain import hub\n",
        "import getpass\n",
        "import os"
      ],
      "metadata": {
        "id": "gaYKeDwlg55w"
      },
      "execution_count": null,
      "outputs": []
    },
    {
      "cell_type": "code",
      "source": [
        "os.environ[\"HUGGINGFACEHUB_API_TOKEN\"] = \"your_api_key\""
      ],
      "metadata": {
        "id": "djD1rBdFkZdc"
      },
      "execution_count": 2,
      "outputs": []
    },
    {
      "cell_type": "code",
      "source": [
        "os.environ[\"SERPAPI_API_KEY\"] = \"your_api_key\""
      ],
      "metadata": {
        "id": "5muMq--YgsAZ"
      },
      "execution_count": 3,
      "outputs": []
    },
    {
      "cell_type": "code",
      "source": [
        "repo_id = \"mistralai/Mistral-7B-Instruct-v0.2\"\n",
        "\n",
        "llm = HuggingFaceEndpoint(\n",
        "    repo_id=repo_id, temperature=0.5, verbose=True\n",
        ")"
      ],
      "metadata": {
        "collapsed": true,
        "id": "EfAZO1_wkal-"
      },
      "execution_count": null,
      "outputs": []
    },
    {
      "cell_type": "code",
      "source": [
        "tools = load_tools([\"serpapi\"])"
      ],
      "metadata": {
        "id": "StE8VgBIhndq"
      },
      "execution_count": 5,
      "outputs": []
    },
    {
      "cell_type": "code",
      "source": [
        "template = '''Answer the following questions as best you can. You have access to the following tools:\n",
        "\n",
        "{tools}\n",
        "\n",
        "Use the following format:\n",
        "\n",
        "Question: the input question you must answer\n",
        "Thought: you should always think about what to do\n",
        "Action: the action to take, should be one of [{tool_names}]\n",
        "Action Input: the input to the action\n",
        "Observation: the result of the action\n",
        "... (this Thought/Action/Action Input/Observation can repeat N times)\n",
        "Thought: I now know the final answer\n",
        "Final Answer: the final answer to the original input question\n",
        "\n",
        "Begin!\n",
        "\n",
        "{chat_history}\n",
        "Question: {input}\n",
        "Thought:{agent_scratchpad}'''\n",
        "\n",
        "prompt = PromptTemplate.from_template(template)"
      ],
      "metadata": {
        "id": "7ITOCwRphqAL"
      },
      "execution_count": 6,
      "outputs": []
    },
    {
      "cell_type": "code",
      "source": [
        "memory = ConversationBufferMemory(memory_key=\"chat_history\")\n",
        "agent_memory = create_react_agent(llm, tools, prompt)\n",
        "agent_executor_memory = AgentExecutor(agent=agent_memory, tools=tools, memory=memory, verbose=True)"
      ],
      "metadata": {
        "id": "GTr5q49_htqx"
      },
      "execution_count": 7,
      "outputs": []
    },
    {
      "cell_type": "code",
      "source": [
        "agent_executor_memory.invoke({\"input\": \"What is the capital of Bahia?\"})"
      ],
      "metadata": {
        "id": "6-zeRS23hwRv",
        "colab": {
          "base_uri": "https://localhost:8080/"
        },
        "outputId": "b2c508f7-29c8-42c5-8971-8dd46960cc7b"
      },
      "execution_count": 8,
      "outputs": [
        {
          "output_type": "stream",
          "name": "stdout",
          "text": [
            "\n",
            "\n",
            "\u001b[1m> Entering new AgentExecutor chain...\u001b[0m\n",
            "\u001b[32;1m\u001b[1;3m I don't know the answer off the top of my head, but I can use the search engine to find out.\n",
            "Action: Search\n",
            "Action Input: \"capital of Bahia\"\n",
            "Observation\u001b[0m\u001b[36;1m\u001b[1;3mAs Brazil's fourth largest city (by population) and the capital of Bahia state, Salvador is complex, chaotic, and colorful, with a larger-than-life culture that dates back 500 centuries. This city kept us on our toes and bedazzled us. We'll never forget it. Salvador is one of Brazil's oldest cities, founded in 1549.\u001b[0m\u001b[32;1m\u001b[1;3m The search result indicates that Salvador is the capital city of Bahia, so that is the final answer.\n",
            "Final Answer: Salvador is the capital city of Bahia.</s>\u001b[0m\n",
            "\n",
            "\u001b[1m> Finished chain.\u001b[0m\n"
          ]
        },
        {
          "output_type": "execute_result",
          "data": {
            "text/plain": [
              "{'input': 'What is the capital of Bahia?',\n",
              " 'chat_history': '',\n",
              " 'output': 'Salvador is the capital city of Bahia.</s>'}"
            ]
          },
          "metadata": {},
          "execution_count": 8
        }
      ]
    },
    {
      "cell_type": "code",
      "source": [
        "agent_executor_memory.invoke({\"input\": \"In which country the city is located?\"})"
      ],
      "metadata": {
        "id": "3Igkq5dohxsR",
        "colab": {
          "base_uri": "https://localhost:8080/"
        },
        "outputId": "b8688140-0161-4479-d34d-e91197afa6de"
      },
      "execution_count": 9,
      "outputs": [
        {
          "output_type": "stream",
          "name": "stdout",
          "text": [
            "\n",
            "\n",
            "\u001b[1m> Entering new AgentExecutor chain...\u001b[0m\n",
            "\u001b[32;1m\u001b[1;3m I need to find out in which country the capital city of Bahia is located.\n",
            "Action: Search\n",
            "Action Input: capital city of Bahia country\n",
            "Observation\u001b[0m\u001b[36;1m\u001b[1;3m['Salvador is a Brazilian municipality and capital city of the state of Bahia. Situated in the Zona da Mata in the Northeast Region of Brazil, Salvador is ...', 'Bahia\\'s capital is the city of Salvador (formerly known as \"Cidade do São Salvador da Bahia de Todos os Santos\", literally \"City of the Saint Savior of the Bay ...', \"Salvador, city, major port, and capital (since 1889) of Bahia estado (state), northeastern Brazil. It is the country's third largest city.\", \"We loved our six days in Salvador, capital of Brazil's Bahia state. The Afro-Brazilian culture, food, and gorgeous architecture drew us in.\", \"The capital of Bahia state, Salvador, is one of Brazil's most vibrant and colourful cities. The country's first capital and an entry point for slave ships ...\", 'Population: (2022) 14,659,023. Capital: Salvador. The São Francisco River flows north-south through the west-central part of the state before emptying into the ...', 'As the first capital of Brazil, from 1549 to 1763, Salvador de Bahia witnessed the blending of European, African and Amerindian cultures.', \"... capital of Brazil's northeastern state of Bahia. It's located along the country's coast. Also known as Salvador, it's been called the blackest ...\", 'Salvador de Bahia, officially known as São Salvador da Bahia de Todos os Santos, is the capital of the Brazilian state of Bahia.', 'Considered the birthplace of modern Brazil, Salvador\\'s tumultuous history has produced a unique \"axé\" (or energy) and approach to life.']\u001b[0m\u001b[32;1m\u001b[1;3m Based on the search results, I have determined that the capital city of Bahia is located in Brazil.\n",
            "Final Answer: The capital city of Bahia is located in Brazil.</s>\u001b[0m\n",
            "\n",
            "\u001b[1m> Finished chain.\u001b[0m\n"
          ]
        },
        {
          "output_type": "execute_result",
          "data": {
            "text/plain": [
              "{'input': 'In which country the city is located?',\n",
              " 'chat_history': 'Human: What is the capital of Bahia?\\nAI: Salvador is the capital city of Bahia.</s>',\n",
              " 'output': 'The capital city of Bahia is located in Brazil.</s>'}"
            ]
          },
          "metadata": {},
          "execution_count": 9
        }
      ]
    }
  ]
}