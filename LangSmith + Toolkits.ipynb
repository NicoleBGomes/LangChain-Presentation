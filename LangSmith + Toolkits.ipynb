{
  "nbformat": 4,
  "nbformat_minor": 0,
  "metadata": {
    "colab": {
      "provenance": []
    },
    "kernelspec": {
      "name": "python3",
      "display_name": "Python 3"
    },
    "language_info": {
      "name": "python"
    },
    "widgets": {
      "application/vnd.jupyter.widget-state+json": {
        "e4c24032bb9f41a3bff49ba3ca4609e8": {
          "model_module": "@jupyter-widgets/controls",
          "model_name": "HBoxModel",
          "model_module_version": "1.5.0",
          "state": {
            "_dom_classes": [],
            "_model_module": "@jupyter-widgets/controls",
            "_model_module_version": "1.5.0",
            "_model_name": "HBoxModel",
            "_view_count": null,
            "_view_module": "@jupyter-widgets/controls",
            "_view_module_version": "1.5.0",
            "_view_name": "HBoxView",
            "box_style": "",
            "children": [
              "IPY_MODEL_45d0be146c6548b49b4e5de90893d61c",
              "IPY_MODEL_54251bd8428348939397ea6f1a1cb7d2",
              "IPY_MODEL_3ec8061a967b4c37a698305caed2d6da"
            ],
            "layout": "IPY_MODEL_d378d0a265ee4417bbba3694f651b287"
          }
        },
        "45d0be146c6548b49b4e5de90893d61c": {
          "model_module": "@jupyter-widgets/controls",
          "model_name": "HTMLModel",
          "model_module_version": "1.5.0",
          "state": {
            "_dom_classes": [],
            "_model_module": "@jupyter-widgets/controls",
            "_model_module_version": "1.5.0",
            "_model_name": "HTMLModel",
            "_view_count": null,
            "_view_module": "@jupyter-widgets/controls",
            "_view_module_version": "1.5.0",
            "_view_name": "HTMLView",
            "description": "",
            "description_tooltip": null,
            "layout": "IPY_MODEL_cbf8c65161d943ca941a4b93d5a062a4",
            "placeholder": "​",
            "style": "IPY_MODEL_13505ba940d04e0781499f03981a8f5e",
            "value": ""
          }
        },
        "54251bd8428348939397ea6f1a1cb7d2": {
          "model_module": "@jupyter-widgets/controls",
          "model_name": "FloatProgressModel",
          "model_module_version": "1.5.0",
          "state": {
            "_dom_classes": [],
            "_model_module": "@jupyter-widgets/controls",
            "_model_module_version": "1.5.0",
            "_model_name": "FloatProgressModel",
            "_view_count": null,
            "_view_module": "@jupyter-widgets/controls",
            "_view_module_version": "1.5.0",
            "_view_name": "ProgressView",
            "bar_style": "success",
            "description": "",
            "description_tooltip": null,
            "layout": "IPY_MODEL_af445fa2e83f47138722a7d12c5853e0",
            "max": 1,
            "min": 0,
            "orientation": "horizontal",
            "style": "IPY_MODEL_bf1bd1989dde4015a13f10a1a8b1557c",
            "value": 1
          }
        },
        "3ec8061a967b4c37a698305caed2d6da": {
          "model_module": "@jupyter-widgets/controls",
          "model_name": "HTMLModel",
          "model_module_version": "1.5.0",
          "state": {
            "_dom_classes": [],
            "_model_module": "@jupyter-widgets/controls",
            "_model_module_version": "1.5.0",
            "_model_name": "HTMLModel",
            "_view_count": null,
            "_view_module": "@jupyter-widgets/controls",
            "_view_module_version": "1.5.0",
            "_view_name": "HTMLView",
            "description": "",
            "description_tooltip": null,
            "layout": "IPY_MODEL_57ae052ca1e34477ab1306ad3d434c69",
            "placeholder": "​",
            "style": "IPY_MODEL_02b227543a3047a0899fc04cf06f1164",
            "value": " 4/? [00:00&lt;00:00,  1.56it/s]"
          }
        },
        "d378d0a265ee4417bbba3694f651b287": {
          "model_module": "@jupyter-widgets/base",
          "model_name": "LayoutModel",
          "model_module_version": "1.2.0",
          "state": {
            "_model_module": "@jupyter-widgets/base",
            "_model_module_version": "1.2.0",
            "_model_name": "LayoutModel",
            "_view_count": null,
            "_view_module": "@jupyter-widgets/base",
            "_view_module_version": "1.2.0",
            "_view_name": "LayoutView",
            "align_content": null,
            "align_items": null,
            "align_self": null,
            "border": null,
            "bottom": null,
            "display": null,
            "flex": null,
            "flex_flow": null,
            "grid_area": null,
            "grid_auto_columns": null,
            "grid_auto_flow": null,
            "grid_auto_rows": null,
            "grid_column": null,
            "grid_gap": null,
            "grid_row": null,
            "grid_template_areas": null,
            "grid_template_columns": null,
            "grid_template_rows": null,
            "height": null,
            "justify_content": null,
            "justify_items": null,
            "left": null,
            "margin": null,
            "max_height": null,
            "max_width": null,
            "min_height": null,
            "min_width": null,
            "object_fit": null,
            "object_position": null,
            "order": null,
            "overflow": null,
            "overflow_x": null,
            "overflow_y": null,
            "padding": null,
            "right": null,
            "top": null,
            "visibility": null,
            "width": null
          }
        },
        "cbf8c65161d943ca941a4b93d5a062a4": {
          "model_module": "@jupyter-widgets/base",
          "model_name": "LayoutModel",
          "model_module_version": "1.2.0",
          "state": {
            "_model_module": "@jupyter-widgets/base",
            "_model_module_version": "1.2.0",
            "_model_name": "LayoutModel",
            "_view_count": null,
            "_view_module": "@jupyter-widgets/base",
            "_view_module_version": "1.2.0",
            "_view_name": "LayoutView",
            "align_content": null,
            "align_items": null,
            "align_self": null,
            "border": null,
            "bottom": null,
            "display": null,
            "flex": null,
            "flex_flow": null,
            "grid_area": null,
            "grid_auto_columns": null,
            "grid_auto_flow": null,
            "grid_auto_rows": null,
            "grid_column": null,
            "grid_gap": null,
            "grid_row": null,
            "grid_template_areas": null,
            "grid_template_columns": null,
            "grid_template_rows": null,
            "height": null,
            "justify_content": null,
            "justify_items": null,
            "left": null,
            "margin": null,
            "max_height": null,
            "max_width": null,
            "min_height": null,
            "min_width": null,
            "object_fit": null,
            "object_position": null,
            "order": null,
            "overflow": null,
            "overflow_x": null,
            "overflow_y": null,
            "padding": null,
            "right": null,
            "top": null,
            "visibility": null,
            "width": null
          }
        },
        "13505ba940d04e0781499f03981a8f5e": {
          "model_module": "@jupyter-widgets/controls",
          "model_name": "DescriptionStyleModel",
          "model_module_version": "1.5.0",
          "state": {
            "_model_module": "@jupyter-widgets/controls",
            "_model_module_version": "1.5.0",
            "_model_name": "DescriptionStyleModel",
            "_view_count": null,
            "_view_module": "@jupyter-widgets/base",
            "_view_module_version": "1.2.0",
            "_view_name": "StyleView",
            "description_width": ""
          }
        },
        "af445fa2e83f47138722a7d12c5853e0": {
          "model_module": "@jupyter-widgets/base",
          "model_name": "LayoutModel",
          "model_module_version": "1.2.0",
          "state": {
            "_model_module": "@jupyter-widgets/base",
            "_model_module_version": "1.2.0",
            "_model_name": "LayoutModel",
            "_view_count": null,
            "_view_module": "@jupyter-widgets/base",
            "_view_module_version": "1.2.0",
            "_view_name": "LayoutView",
            "align_content": null,
            "align_items": null,
            "align_self": null,
            "border": null,
            "bottom": null,
            "display": null,
            "flex": null,
            "flex_flow": null,
            "grid_area": null,
            "grid_auto_columns": null,
            "grid_auto_flow": null,
            "grid_auto_rows": null,
            "grid_column": null,
            "grid_gap": null,
            "grid_row": null,
            "grid_template_areas": null,
            "grid_template_columns": null,
            "grid_template_rows": null,
            "height": null,
            "justify_content": null,
            "justify_items": null,
            "left": null,
            "margin": null,
            "max_height": null,
            "max_width": null,
            "min_height": null,
            "min_width": null,
            "object_fit": null,
            "object_position": null,
            "order": null,
            "overflow": null,
            "overflow_x": null,
            "overflow_y": null,
            "padding": null,
            "right": null,
            "top": null,
            "visibility": null,
            "width": "20px"
          }
        },
        "bf1bd1989dde4015a13f10a1a8b1557c": {
          "model_module": "@jupyter-widgets/controls",
          "model_name": "ProgressStyleModel",
          "model_module_version": "1.5.0",
          "state": {
            "_model_module": "@jupyter-widgets/controls",
            "_model_module_version": "1.5.0",
            "_model_name": "ProgressStyleModel",
            "_view_count": null,
            "_view_module": "@jupyter-widgets/base",
            "_view_module_version": "1.2.0",
            "_view_name": "StyleView",
            "bar_color": null,
            "description_width": ""
          }
        },
        "57ae052ca1e34477ab1306ad3d434c69": {
          "model_module": "@jupyter-widgets/base",
          "model_name": "LayoutModel",
          "model_module_version": "1.2.0",
          "state": {
            "_model_module": "@jupyter-widgets/base",
            "_model_module_version": "1.2.0",
            "_model_name": "LayoutModel",
            "_view_count": null,
            "_view_module": "@jupyter-widgets/base",
            "_view_module_version": "1.2.0",
            "_view_name": "LayoutView",
            "align_content": null,
            "align_items": null,
            "align_self": null,
            "border": null,
            "bottom": null,
            "display": null,
            "flex": null,
            "flex_flow": null,
            "grid_area": null,
            "grid_auto_columns": null,
            "grid_auto_flow": null,
            "grid_auto_rows": null,
            "grid_column": null,
            "grid_gap": null,
            "grid_row": null,
            "grid_template_areas": null,
            "grid_template_columns": null,
            "grid_template_rows": null,
            "height": null,
            "justify_content": null,
            "justify_items": null,
            "left": null,
            "margin": null,
            "max_height": null,
            "max_width": null,
            "min_height": null,
            "min_width": null,
            "object_fit": null,
            "object_position": null,
            "order": null,
            "overflow": null,
            "overflow_x": null,
            "overflow_y": null,
            "padding": null,
            "right": null,
            "top": null,
            "visibility": null,
            "width": null
          }
        },
        "02b227543a3047a0899fc04cf06f1164": {
          "model_module": "@jupyter-widgets/controls",
          "model_name": "DescriptionStyleModel",
          "model_module_version": "1.5.0",
          "state": {
            "_model_module": "@jupyter-widgets/controls",
            "_model_module_version": "1.5.0",
            "_model_name": "DescriptionStyleModel",
            "_view_count": null,
            "_view_module": "@jupyter-widgets/base",
            "_view_module_version": "1.2.0",
            "_view_name": "StyleView",
            "description_width": ""
          }
        }
      }
    }
  },
  "cells": [
    {
      "cell_type": "markdown",
      "source": [
        "# LangSmith"
      ],
      "metadata": {
        "id": "noZ4_WUkBzLT"
      }
    },
    {
      "cell_type": "code",
      "execution_count": null,
      "metadata": {
        "id": "sxXheMsQxgVH"
      },
      "outputs": [],
      "source": [
        "!pip install -qU langchain huggingface_hub langchain-community langchainhub langsmith langchain-ai21 langchain-cohere\n",
        "from langchain.agents import AgentExecutor, create_react_agent\n",
        "from langchain_community.llms import HuggingFaceEndpoint\n",
        "from langchain_cohere.llms import Cohere\n",
        "from langchain_cohere import ChatCohere\n",
        "from langchain_core.tools import tool\n",
        "from langchain import hub\n",
        "from uuid import uuid4\n",
        "import os"
      ]
    },
    {
      "cell_type": "code",
      "source": [
        "os.environ[\"COHERE_API_KEY\"] = \"your_api_key\""
      ],
      "metadata": {
        "id": "0miPbuRc5kSa"
      },
      "execution_count": null,
      "outputs": []
    },
    {
      "cell_type": "code",
      "source": [
        "chat = ChatCohere()\n",
        "llm = Cohere()"
      ],
      "metadata": {
        "id": "etUbMtWv6T59"
      },
      "execution_count": null,
      "outputs": []
    },
    {
      "cell_type": "code",
      "source": [
        "unique_id = uuid4().hex[0:8]\n",
        "os.environ[\"LANGCHAIN_TRACING_V2\"] = \"true\"\n",
        "os.environ[\"LANGCHAIN_PROJECT\"] = f\"LangChain_Presentation\"\n",
        "os.environ[\"LANGCHAIN_ENDPOINT\"] = \"https://api.smith.langchain.com\"\n",
        "os.environ[\"LANGCHAIN_API_KEY\"] = \"your_api_key\""
      ],
      "metadata": {
        "id": "_rJ2-dZvzIIx"
      },
      "execution_count": null,
      "outputs": []
    },
    {
      "cell_type": "code",
      "source": [
        "from langsmith import Client\n",
        "client = Client()"
      ],
      "metadata": {
        "id": "W4G2h4ExzNJD"
      },
      "execution_count": null,
      "outputs": []
    },
    {
      "cell_type": "code",
      "source": [
        "example_inputs = [\n",
        "    (\"What is the largest mammal?\", \"The blue whale\"),\n",
        "    (\"What do mammals and birds have in common?\", \"They are both warm-blooded\"),\n",
        "    (\"What are reptilees knwown for?\", \"Having scales\"),\n",
        "    (\"What's the main characteristic of amphibians?\", \"They live both in water and on land\"),\n",
        "]"
      ],
      "metadata": {
        "id": "SOGZuAebGl5P"
      },
      "execution_count": null,
      "outputs": []
    },
    {
      "cell_type": "code",
      "source": [
        "example_inputs = [\n",
        "    (\"Which mammal is known for its ability to fly?\", \"The bat\")\n",
        "    (\"What is the primary feature of fish?\", \"They have gills to breathe underwater\")\n",
        "    (\"What do all insects have in common?\", \"They have three main body parts: head, thorax, and abdomen\")\n",
        "    (\"What is a defining characteristic of birds?\", \"They have feathers\")\n",
        "]"
      ],
      "metadata": {
        "id": "zR8kbUt8tWd6"
      },
      "execution_count": null,
      "outputs": []
    },
    {
      "cell_type": "code",
      "source": [
        "dataset_name = \"Elementary Animal Questions\""
      ],
      "metadata": {
        "id": "D1b9o-9xHfkq"
      },
      "execution_count": null,
      "outputs": []
    },
    {
      "cell_type": "code",
      "source": [
        "dataset = client.create_dataset(\n",
        "    dataset_name=\"Elementary Animal Questions\",\n",
        "    description=\"Questions and answers about animal phylogenetics.\"\n",
        ")"
      ],
      "metadata": {
        "id": "t3BsEYFHHiz9"
      },
      "execution_count": null,
      "outputs": []
    },
    {
      "cell_type": "code",
      "source": [
        "for input_prompt, output_answer in example_inputs:\n",
        "  client.create_example(\n",
        "      inputs={\"question\": input_prompt},\n",
        "      outputs={\"answer\": output_answer},\n",
        "      dataset_id=dataset.id\n",
        "  )"
      ],
      "metadata": {
        "id": "mTLCJM-JHwhI"
      },
      "execution_count": null,
      "outputs": []
    },
    {
      "cell_type": "markdown",
      "source": [
        "# Evaluation"
      ],
      "metadata": {
        "id": "YZX7CcOjmvnj"
      }
    },
    {
      "cell_type": "code",
      "source": [
        "from langchain_core.prompts import ChatPromptTemplate\n",
        "from langchain_core.output_parsers import StrOutputParser\n",
        "from langsmith.evaluation import evaluate\n",
        "\n",
        "# Target task definition\n",
        "prompt = ChatPromptTemplate.from_messages([\n",
        "  (\"system\", \"Please review the user query below and determine if it contains any form of toxic behavior, such as insults, threats, or highly negative comments. Respond with 'Toxic' if it does, and 'Not toxic' if it doesn't.\"),\n",
        "  (\"user\", \"{question}\")\n",
        "])\n",
        "\n",
        "output_parser = StrOutputParser()\n",
        "\n",
        "chain = prompt | chat | output_parser\n",
        "\n",
        "# The name or UUID of the LangSmith dataset to evaluate on.\n",
        "# Alternatively, you can pass an iterator of examples\n",
        "data = \"Elementary Animal Questions\"\n",
        "\n",
        "# A string to prefix the experiment name with.\n",
        "# If not provided, a random string will be generated.\n",
        "experiment_prefix = \"Elementary Animal Questions\"\n",
        "\n",
        "# Evaluate the target task\n",
        "results = evaluate(\n",
        "  chain.invoke,\n",
        "  data=data,\n",
        "  experiment_prefix=experiment_prefix,\n",
        ")"
      ],
      "metadata": {
        "colab": {
          "base_uri": "https://localhost:8080/",
          "height": 118,
          "referenced_widgets": [
            "e4c24032bb9f41a3bff49ba3ca4609e8",
            "45d0be146c6548b49b4e5de90893d61c",
            "54251bd8428348939397ea6f1a1cb7d2",
            "3ec8061a967b4c37a698305caed2d6da",
            "d378d0a265ee4417bbba3694f651b287",
            "cbf8c65161d943ca941a4b93d5a062a4",
            "13505ba940d04e0781499f03981a8f5e",
            "af445fa2e83f47138722a7d12c5853e0",
            "bf1bd1989dde4015a13f10a1a8b1557c",
            "57ae052ca1e34477ab1306ad3d434c69",
            "02b227543a3047a0899fc04cf06f1164"
          ]
        },
        "id": "tmLl_E6zbRn9",
        "outputId": "4dfbaa88-d85d-4709-8849-061d25291623"
      },
      "execution_count": null,
      "outputs": [
        {
          "output_type": "stream",
          "name": "stdout",
          "text": [
            "View the evaluation results for experiment: 'Elementary Animal Questions-6ea03e3e' at:\n",
            "https://smith.langchain.com/o/15793a46-90bc-5ff7-86c1-16f9efe55fab/datasets/c9afb3a0-9169-4169-b94f-9101893a9052/compare?selectedSessions=a9f1d12c-de50-4109-a42f-58774e1c4bf7\n",
            "\n",
            "\n"
          ]
        },
        {
          "output_type": "display_data",
          "data": {
            "text/plain": [
              "0it [00:00, ?it/s]"
            ],
            "application/vnd.jupyter.widget-view+json": {
              "version_major": 2,
              "version_minor": 0,
              "model_id": "e4c24032bb9f41a3bff49ba3ca4609e8"
            }
          },
          "metadata": {}
        }
      ]
    },
    {
      "cell_type": "markdown",
      "source": [
        "# Toolkits"
      ],
      "metadata": {
        "id": "q21jpCuppi4b"
      }
    },
    {
      "cell_type": "code",
      "source": [
        "from langchain_community.agent_toolkits.nasa.toolkit import NasaToolkit\n",
        "from langchain_community.utilities.nasa import NasaAPIWrapper"
      ],
      "metadata": {
        "id": "s7qtT6U9B4ik"
      },
      "execution_count": null,
      "outputs": []
    },
    {
      "cell_type": "code",
      "source": [
        "nasa = NasaAPIWrapper()\n",
        "toolkit = NasaToolkit.from_nasa_api_wrapper(nasa)"
      ],
      "metadata": {
        "id": "8c1jIHpWB7fG"
      },
      "execution_count": null,
      "outputs": []
    },
    {
      "cell_type": "code",
      "source": [
        "for tool in toolkit.tools:\n",
        "  print('Nome da tool: ', tool.name)\n",
        "  print('Descrição da tool: ', tool.description)"
      ],
      "metadata": {
        "colab": {
          "base_uri": "https://localhost:8080/"
        },
        "id": "e9th-fjIB9Nd",
        "outputId": "2557767b-162b-4a06-a9f5-1fb24232d75b"
      },
      "execution_count": null,
      "outputs": [
        {
          "output_type": "stream",
          "name": "stdout",
          "text": [
            "Nome da tool:  Search NASA Image and Video Library media\n",
            "Descrição da tool:  \n",
            "    This tool is a wrapper around NASA's search API, useful when you need to search through NASA's Image and Video Library. \n",
            "    The input to this tool is a query specified by the user, and will be passed into NASA's `search` function.\n",
            "    \n",
            "    At least one parameter must be provided.\n",
            "\n",
            "    There are optional parameters that can be passed by the user based on their query\n",
            "    specifications. Each item in this list contains pound sign (#) separated values, the first value is the parameter name, \n",
            "    the second value is the datatype and the third value is the description: {{\n",
            "\n",
            "        - q#string#Free text search terms to compare to all indexed metadata.\n",
            "        - center#string#NASA center which published the media.\n",
            "        - description#string#Terms to search for in “Description” fields.\n",
            "        - description_508#string#Terms to search for in “508 Description” fields.\n",
            "        - keywords #string#Terms to search for in “Keywords” fields. Separate multiple values with commas.\n",
            "        - location #string#Terms to search for in “Location” fields.\n",
            "        - media_type#string#Media types to restrict the search to. Available types: [“image”,“video”, “audio”]. Separate multiple values with commas.\n",
            "        - nasa_id #string#The media asset’s NASA ID.\n",
            "        - page#integer#Page number, starting at 1, of results to get.-\n",
            "        - page_size#integer#Number of results per page. Default: 100.\n",
            "        - photographer#string#The primary photographer’s name.\n",
            "        - secondary_creator#string#A secondary photographer/videographer’s name.\n",
            "        - title #string#Terms to search for in “Title” fields.\n",
            "        - year_start#string#The start year for results. Format: YYYY.\n",
            "        - year_end #string#The end year for results. Format: YYYY.\n",
            "\n",
            "    }}\n",
            "    \n",
            "    Below are several task descriptions along with their respective input examples.\n",
            "    Task: get the 2nd page of image and video content starting from the year 2002 to 2010\n",
            "    Example Input: {{\"year_start\":  \"2002\", \"year_end\":  \"2010\", \"page\": 2}}\n",
            "    \n",
            "    Task: get the image and video content of saturn photographed by John Appleseed\n",
            "    Example Input: {{\"q\": \"saturn\", \"photographer\": \"John Appleseed\"}}\n",
            "    \n",
            "    Task: search for Meteor Showers with description \"Search Description\" with media type image\n",
            "    Example Input: {{\"q\": \"Meteor Shower\", \"description\": \"Search Description\", \"media_type\": \"image\"}}\n",
            "    \n",
            "    Task: get the image and video content from year 2008 to 2010 from Kennedy Center\n",
            "    Example Input: {{\"year_start\":  \"2002\", \"year_end\":  \"2010\", \"location\": \"Kennedy Center}}\n",
            "    \n",
            "Nome da tool:  Get NASA Image and Video Library media metadata manifest\n",
            "Descrição da tool:  \n",
            "    This tool is a wrapper around NASA's media asset manifest API, useful when you need to retrieve a media \n",
            "    asset's manifest. The input to this tool should include a string representing a NASA ID for a media asset that the user is trying to get the media asset manifest data for. The NASA ID will be passed as a string into NASA's `get_media_metadata_manifest` function.\n",
            "\n",
            "    The following list are some examples of NASA IDs for a media asset that you can use to better extract the NASA ID from the input string to the tool.\n",
            "    - GSFC_20171102_Archive_e000579\n",
            "    - Launch-Sound_Delta-PAM-Random-Commentary\n",
            "    - iss066m260341519_Expedition_66_Education_Inflight_with_Random_Lake_School_District_220203\n",
            "    - 6973610\n",
            "    - GRC-2020-CM-0167.4\n",
            "    - Expedition_55_Inflight_Japan_VIP_Event_May_31_2018_659970\n",
            "    - NASA 60th_SEAL_SLIVER_150DPI\n",
            "\n",
            "Nome da tool:  Get NASA Image and Video Library media metadata location\n",
            "Descrição da tool:  \n",
            "    This tool is a wrapper around NASA's media asset metadata location API, useful when you need to retrieve the media asset's metadata. The input to this tool should include a string representing a NASA ID for a media asset that the user is trying to get the media asset metadata location for. The NASA ID will be passed as a string into NASA's `get_media_metadata_manifest` function.\n",
            "\n",
            "    The following list are some examples of NASA IDs for a media asset that you can use to better extract the NASA ID from the input string to the tool.\n",
            "    - GSFC_20171102_Archive_e000579\n",
            "    - Launch-Sound_Delta-PAM-Random-Commentary\n",
            "    - iss066m260341519_Expedition_66_Education_Inflight_with_Random_Lake_School_District_220203\n",
            "    - 6973610\n",
            "    - GRC-2020-CM-0167.4\n",
            "    - Expedition_55_Inflight_Japan_VIP_Event_May_31_2018_659970\n",
            "    - NASA 60th_SEAL_SLIVER_150DPI\n",
            "\n",
            "Nome da tool:  Get NASA Image and Video Library video captions location\n",
            "Descrição da tool:  \n",
            "    This tool is a wrapper around NASA's video assests caption location API, useful when you need \n",
            "    to retrieve the location of the captions of a specific video. The input to this tool should include a string representing a NASA ID for a video media asset that the user is trying to get the get the location of the captions for. The NASA ID will be passed as a string into NASA's `get_media_metadata_manifest` function.\n",
            "\n",
            "    The following list are some examples of NASA IDs for a video asset that you can use to better extract the NASA ID from the input string to the tool.\n",
            "    - 2017-08-09 - Video File RS-25 Engine Test\n",
            "    - 20180415-TESS_Social_Briefing\n",
            "    - 201_TakingWildOutOfWildfire\n",
            "    - 2022-H1_V_EuropaClipper-4\n",
            "    - 2022_0429_Recientemente\n",
            "\n"
          ]
        }
      ]
    },
    {
      "cell_type": "code",
      "source": [
        "from langchain.agents import AgentExecutor, create_react_agent\n",
        "\n",
        "prompt = hub.pull(\"hwchase17/react\")\n",
        "agent_nasa = create_react_agent(llm, toolkit.get_tools(), prompt)\n",
        "agent_executor_nasa = AgentExecutor(agent=agent_nasa, tools=toolkit.get_tools(), verbose=True)"
      ],
      "metadata": {
        "id": "rJ8QWlJHKKPO"
      },
      "execution_count": null,
      "outputs": []
    },
    {
      "cell_type": "code",
      "source": [
        "agent_executor_nasa.invoke({\"input\": \"Find the metadata for the image PIA13005 \"})"
      ],
      "metadata": {
        "colab": {
          "base_uri": "https://localhost:8080/"
        },
        "id": "GlyAVqwL2PSj",
        "outputId": "25174f2c-c67c-45d2-ffc8-d30447c74c64"
      },
      "execution_count": null,
      "outputs": [
        {
          "output_type": "stream",
          "name": "stdout",
          "text": [
            "\n",
            "\n",
            "\u001b[1m> Entering new AgentExecutor chain...\u001b[0m\n",
            "\u001b[32;1m\u001b[1;3m I need to use the Get NASA Image and Video Library media metadata manifest tool to find the metadata for image PIA13005. The tool requires a NASA ID, so I should search for that ID using the Search NASA Image and Video Library media tool. \n",
            "Action: Search NASA Image and Video Library media\n",
            "Action Input: {\"q\": \"PIA13005\"}\u001b[0m\u001b[36;1m\u001b[1;3m{\"collection\": {\"version\": \"1.0\", \"href\": \"http://images-api.nasa.gov/search?q=PIA13005\", \"items\": [{\"href\": \"https://images-assets.nasa.gov/image/PIA13005/collection.json\", \"data\": [{\"center\": \"JPL\", \"title\": \"Orion Dreamy Stars\", \"nasa_id\": \"PIA13005\", \"date_created\": \"2010-04-01T21:00:00Z\", \"keywords\": [\"Spitzer Space Telescope\"], \"media_type\": \"image\", \"description_508\": \"A colony of hot, young stars is stirring up the cosmic scene in this new picture from NASA Spitzer Space Telescope. The image shows the Orion nebula, a happening place where stars are born.\", \"secondary_creator\": \"NASA/JPL-Caltech\", \"description\": \"A colony of hot, young stars is stirring up the cosmic scene in this new picture from NASA Spitzer Space Telescope. The image shows the Orion nebula, a happening place where stars are born.\"}], \"links\": [{\"href\": \"https://images-assets.nasa.gov/image/PIA13005/PIA13005~thumb.jpg\", \"rel\": \"preview\", \"render\": \"image\"}]}], \"metadata\": {\"total_hits\": 1}}}\u001b[0m\u001b[32;1m\u001b[1;3mI now know the final answer\n",
            "Final Answer: {\"collection\": {\"version\": \"1.0\", \"href\": \"http://images-api.nasa.gov/search?q=PIA13005\", \"items\": [{\"href\": \"https://images-assets.nasa.gov/image/PIA13005/collection.json\", \"data\": [{\"center\": \"JPL\", \"title\": \"Orion Dreamy Stars\", \"nasa_id\": \"PIA13005\", \"date_created\": \"2010-04-01T21:00:00Z\", \"keywords\": [\"Spitzer Space Telescope\"], \"media_type\": \"image\", \"description_508\": \"A colony of hot, young stars is stirring up the cosmic scene in this new picture from NASA Spitzer Space Telescope. The image shows the Orion nebula, a happening place where stars are born.\", \"secondary_creator\": \"NASA/JPL-Caltech\", \"description\": \"A colony of hot, young stars is stirring up the cosmic scene in this new picture from NASA Spitzer Space Telescope. The image shows the Orion nebula, a happening place where stars are born.\"}], \"links\": [{\"href\": \"https://images-assets.nasa.gov/image/PIA13005/PIA13005~thumb.jpg\", \"rel\": \"preview\", \"render\": \"image\"}]}], \"metadata\": {\"total_hits\": 1}}}\u001b[0m\n",
            "\n",
            "\u001b[1m> Finished chain.\u001b[0m\n"
          ]
        },
        {
          "output_type": "execute_result",
          "data": {
            "text/plain": [
              "{'input': 'Find the metadata for the image PIA13005',\n",
              " 'output': '{\"collection\": {\"version\": \"1.0\", \"href\": \"http://images-api.nasa.gov/search?q=PIA13005\", \"items\": [{\"href\": \"https://images-assets.nasa.gov/image/PIA13005/collection.json\", \"data\": [{\"center\": \"JPL\", \"title\": \"Orion Dreamy Stars\", \"nasa_id\": \"PIA13005\", \"date_created\": \"2010-04-01T21:00:00Z\", \"keywords\": [\"Spitzer Space Telescope\"], \"media_type\": \"image\", \"description_508\": \"A colony of hot, young stars is stirring up the cosmic scene in this new picture from NASA Spitzer Space Telescope. The image shows the Orion nebula, a happening place where stars are born.\", \"secondary_creator\": \"NASA/JPL-Caltech\", \"description\": \"A colony of hot, young stars is stirring up the cosmic scene in this new picture from NASA Spitzer Space Telescope. The image shows the Orion nebula, a happening place where stars are born.\"}], \"links\": [{\"href\": \"https://images-assets.nasa.gov/image/PIA13005/PIA13005~thumb.jpg\", \"rel\": \"preview\", \"render\": \"image\"}]}], \"metadata\": {\"total_hits\": 1}}}'}"
            ]
          },
          "metadata": {},
          "execution_count": 74
        }
      ]
    }
  ]
}